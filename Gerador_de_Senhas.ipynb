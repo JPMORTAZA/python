{
  "nbformat": 4,
  "nbformat_minor": 0,
  "metadata": {
    "colab": {
      "name": "Gerador de Senhas",
      "provenance": [],
      "authorship_tag": "ABX9TyP2zhE4OLr3j0vItbliU+xd",
      "include_colab_link": true
    },
    "kernelspec": {
      "name": "python3",
      "display_name": "Python 3"
    },
    "language_info": {
      "name": "python"
    }
  },
  "cells": [
    {
      "cell_type": "markdown",
      "metadata": {
        "id": "view-in-github",
        "colab_type": "text"
      },
      "source": [
        "<a href=\"https://colab.research.google.com/github/JPMORTAZA/python/blob/main/Gerador_de_Senhas.ipynb\" target=\"_parent\"><img src=\"https://colab.research.google.com/assets/colab-badge.svg\" alt=\"Open In Colab\"/></a>"
      ]
    },
    {
      "cell_type": "code",
      "metadata": {
        "colab": {
          "base_uri": "https://localhost:8080/"
        },
        "id": "5RJ0rhbSXZvV",
        "outputId": "04a29955-4072-4fb3-f511-8afb5cb0c9c5"
      },
      "source": [
        "import random\n",
        "letras_maiusculas = \"QWERTYUIOPASDFGHJKLÇZXCVBNM\" \n",
        "letras_minusculas = \"qwertyuiopasdfghjklçzxcvbnm\"\n",
        "numeros = \"1234567890\"\n",
        "caracteres = '!@#$%&*'\n",
        "\n",
        "gerador = letras_maiusculas + letras_minusculas + numeros + caracteres\n",
        "cumprimento = 16\n",
        "senha = \"\".join(random.sample(gerador, cumprimento))\n",
        "print(senha)"
      ],
      "execution_count": 3,
      "outputs": [
        {
          "output_type": "stream",
          "text": [
            "xLJhQTyu95bv&DÇn\n"
          ],
          "name": "stdout"
        }
      ]
    }
  ]
}